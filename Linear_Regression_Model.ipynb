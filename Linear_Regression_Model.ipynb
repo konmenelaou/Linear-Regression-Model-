{
 "cells": [
  {
   "cell_type": "markdown",
   "metadata": {},
   "source": [
    "# Linear Regression \n",
    "# Step by Step along with a simple example implemented in Python"
   ]
  },
  {
   "cell_type": "markdown",
   "metadata": {},
   "source": [
    "Consider a data set that consists of $n$ pairs $(x_{i},y_{i})$, where $x_{i}$ is an observed value of variable $X$ and $y_{i}$ is the observed value of variable $Y$. The simple linear regression model reads $$y_{i} = \\beta_{0} + \\beta_{1} x_{i} + \\epsilon_{i}$$ \n",
    "\n",
    "The above equation expresses the relation between variables $X$ and $Y$. Here, the parameter $\\beta_{0}$ refer to as the intercept, $\\beta_{1}$ is the slope of the regression line, and $\\epsilon$ is the error (or residual). In other words, a residual is the vertical distance between a point $(x_{i},y_{i})$ and the regression line.\n",
    "\n",
    "Note that, the variable $X$ is known as the independent variable (a variable that stands alone and does not change by the other variables you are trying to measure), whereas $Y$ is known as the dependent variable (something that depends on other factors). \n",
    "\n",
    "Here, we are dealing with a linear model and the goal is to draw a straight line through our data. For this model to be useful we would like to estimate the parameters $\\beta_{0}$ and $\\beta_{1}$ that minimize the sum of squared residuals $\\mathrm{SSR} = \\sum_{i=1}^{n} \\epsilon_{i}^{2} = \\sum_{i=1}^{n} (y_{i} - \\beta_{0} - \\beta_{1} x_{i})^{2}$ .  \n",
    "\n",
    "SSR is minimized when the partial derivatives of the SSR with respect to the unknowns ($\\beta_{0}, \\beta_{1}$) are set to zero: $\\frac{\\partial SSR}{\\partial \\beta_{0}} =0$; $\\frac{\\partial SSR}{\\partial \\beta_{1}} =0$.\n",
    "\n",
    "To find the intercept: $$\\frac{\\partial SSR}{\\partial \\beta_{0}} = \\sum_{i=1}^{n} (y_{i} - \\beta_{0} - \\beta_{1} x_{i}) = 0 \\\\ \\sum_{i=1}^{n} y_{i} = n\\beta_{0} + \\beta_{1} \\sum_{i=1}^{n} x_{i} \\\\ n \\overline{y} = n\\beta_{0} + n \\beta_{1} \\overline{x} \\\\ \\beta_{0} = \\overline{y} - \\beta_{1} \\overline{x}$$\n",
    "\n",
    "Here, the overline symbol denotes a mean variable; for instance $\\overline{y} = \\frac{1}{n} \\sum_{i=1}^{n} y_{i}$.\n",
    "\n",
    "\n",
    "To find the regression coefficient: $$\\frac{\\partial SSR}{\\partial \\beta_{1}} = \\sum_{i=1}^{n} x_{i} (y_{i} - \\beta_{0} - \\beta_{1} x_{i}) = 0 \\\\  \\sum_{i=1}^{n} x_{i} (y_{i} - \\overline{y}  +\\beta_{1} \\overline{x} - \\beta_{1} x_{i}) = 0 \\\\ \\sum_{i=1}^{n} x_{i} y_{i} - \\overline{y} \\sum_{i=1}^{n} x_{i} = \\beta_{1} \\sum_{i=1}^{n} (x_{i} - \\overline{x}) \\\\  \\sum_{i=1}^{n} x_{i} y_{i} -\\overline{y}\\overline{x} = \\beta_{1} \\sum_{i=1}^{n} x_{i}^{2} - \\beta_{1} \\overline{x} \\sum_{i=1}^{n} x_{i} \\\\   \\beta_{1} = \\frac{  \\sum_{i=1}^{n} x_{i} y_{i} -\\overline{y}\\overline{x}}{\\sum_{i=1}^{n} (x_{i} - \\overline{x})^{2}} \\\\ \\beta_{1} = \\frac{\\mathrm{Cov}(x,y)}{\\mathrm{Var}(x)}  $$\n",
    "\n",
    "Here, $\\mathrm{Cov}(x,y)$ stands for covariance which provides a measure of the strength of the correlation between $x$ and $y$, and  $\\mathrm{Var}(x)$ stands for variance and measures how far a set of numbers are spread out from their average value. "
   ]
  },
  {
   "cell_type": "markdown",
   "metadata": {},
   "source": [
    "# Implementation\n",
    "We are going to apply the above methodology on a sample data set containing information about the price of Toyota Corolla and how this price is affected by the car age. Note that this particular data set contains additional pertinent information but they will be exclused from this exercise. "
   ]
  },
  {
   "cell_type": "code",
   "execution_count": 2,
   "metadata": {},
   "outputs": [
    {
     "name": "stdout",
     "output_type": "stream",
     "text": [
      "(1436, 10)\n"
     ]
    },
    {
     "data": {
      "text/html": [
       "<div>\n",
       "<style scoped>\n",
       "    .dataframe tbody tr th:only-of-type {\n",
       "        vertical-align: middle;\n",
       "    }\n",
       "\n",
       "    .dataframe tbody tr th {\n",
       "        vertical-align: top;\n",
       "    }\n",
       "\n",
       "    .dataframe thead th {\n",
       "        text-align: right;\n",
       "    }\n",
       "</style>\n",
       "<table border=\"1\" class=\"dataframe\">\n",
       "  <thead>\n",
       "    <tr style=\"text-align: right;\">\n",
       "      <th></th>\n",
       "      <th>Price</th>\n",
       "      <th>Age</th>\n",
       "      <th>KM</th>\n",
       "      <th>FuelType</th>\n",
       "      <th>HP</th>\n",
       "      <th>MetColor</th>\n",
       "      <th>Automatic</th>\n",
       "      <th>CC</th>\n",
       "      <th>Doors</th>\n",
       "      <th>Weight</th>\n",
       "    </tr>\n",
       "  </thead>\n",
       "  <tbody>\n",
       "    <tr>\n",
       "      <th>0</th>\n",
       "      <td>13500</td>\n",
       "      <td>23</td>\n",
       "      <td>46986</td>\n",
       "      <td>Diesel</td>\n",
       "      <td>90</td>\n",
       "      <td>1</td>\n",
       "      <td>0</td>\n",
       "      <td>2000</td>\n",
       "      <td>3</td>\n",
       "      <td>1165</td>\n",
       "    </tr>\n",
       "    <tr>\n",
       "      <th>1</th>\n",
       "      <td>13750</td>\n",
       "      <td>23</td>\n",
       "      <td>72937</td>\n",
       "      <td>Diesel</td>\n",
       "      <td>90</td>\n",
       "      <td>1</td>\n",
       "      <td>0</td>\n",
       "      <td>2000</td>\n",
       "      <td>3</td>\n",
       "      <td>1165</td>\n",
       "    </tr>\n",
       "    <tr>\n",
       "      <th>2</th>\n",
       "      <td>13950</td>\n",
       "      <td>24</td>\n",
       "      <td>41711</td>\n",
       "      <td>Diesel</td>\n",
       "      <td>90</td>\n",
       "      <td>1</td>\n",
       "      <td>0</td>\n",
       "      <td>2000</td>\n",
       "      <td>3</td>\n",
       "      <td>1165</td>\n",
       "    </tr>\n",
       "    <tr>\n",
       "      <th>3</th>\n",
       "      <td>14950</td>\n",
       "      <td>26</td>\n",
       "      <td>48000</td>\n",
       "      <td>Diesel</td>\n",
       "      <td>90</td>\n",
       "      <td>0</td>\n",
       "      <td>0</td>\n",
       "      <td>2000</td>\n",
       "      <td>3</td>\n",
       "      <td>1165</td>\n",
       "    </tr>\n",
       "    <tr>\n",
       "      <th>4</th>\n",
       "      <td>13750</td>\n",
       "      <td>30</td>\n",
       "      <td>38500</td>\n",
       "      <td>Diesel</td>\n",
       "      <td>90</td>\n",
       "      <td>0</td>\n",
       "      <td>0</td>\n",
       "      <td>2000</td>\n",
       "      <td>3</td>\n",
       "      <td>1170</td>\n",
       "    </tr>\n",
       "  </tbody>\n",
       "</table>\n",
       "</div>"
      ],
      "text/plain": [
       "   Price  Age     KM FuelType  HP  MetColor  Automatic    CC  Doors  Weight\n",
       "0  13500   23  46986   Diesel  90         1          0  2000      3    1165\n",
       "1  13750   23  72937   Diesel  90         1          0  2000      3    1165\n",
       "2  13950   24  41711   Diesel  90         1          0  2000      3    1165\n",
       "3  14950   26  48000   Diesel  90         0          0  2000      3    1165\n",
       "4  13750   30  38500   Diesel  90         0          0  2000      3    1170"
      ]
     },
     "execution_count": 2,
     "metadata": {},
     "output_type": "execute_result"
    }
   ],
   "source": [
    "import numpy as np\n",
    "import pandas as pd\n",
    "import matplotlib.pyplot as plt\n",
    "%matplotlib inline\n",
    "\n",
    "#plt.rcParams['figure.figsize'] = (20.0, 10.0)\n",
    "\n",
    "# Reading Data\n",
    "Input_data = pd.read_csv('/Users/konmenelaou/Desktop/PYTHON/ToyotaCorolla.csv')\n",
    "print(Input_data.shape)\n",
    "Input_data.head()"
   ]
  },
  {
   "cell_type": "code",
   "execution_count": 3,
   "metadata": {},
   "outputs": [
    {
     "name": "stdout",
     "output_type": "stream",
     "text": [
      "-170.93358501154228 20294.058648904807\n"
     ]
    }
   ],
   "source": [
    "# Collecting X and Y\n",
    "X = Input_data['Age'].values\n",
    "Y = Input_data['Price'].values\n",
    "\n",
    "# Mean X and Y\n",
    "mean_x = np.mean(X)\n",
    "mean_y = np.mean(Y)\n",
    "\n",
    "# Total number of values\n",
    "m = len(X)\n",
    "\n",
    "# calculate b1 and b2 (see the above formula)\n",
    "numer = 0\n",
    "denom = 0\n",
    "for i in range(m):\n",
    "    numer += (X[i]*Y[i]) - (mean_x*mean_y)\n",
    "    denom += (X[i] - mean_x) ** 2\n",
    "b1 = numer / denom\n",
    "b0 = mean_y - (b1 * mean_x)\n",
    "\n",
    "# Print coefficients\n",
    "print(b1, b0)"
   ]
  },
  {
   "cell_type": "code",
   "execution_count": 4,
   "metadata": {},
   "outputs": [
    {
     "data": {
      "image/png": "[encoded data removed]",
      "text/plain": [
       "<Figure size 432x288 with 1 Axes>"
      ]
     },
     "metadata": {
      "needs_background": "light"
     },
     "output_type": "display_data"
    }
   ],
   "source": [
    "# Plotting Values and Regression Line\n",
    "\n",
    "max_x = np.max(X) \n",
    "min_x = np.min(X) \n",
    "\n",
    "# Calculating line values x and y\n",
    "x = np.linspace(min_x, max_x, 1000)\n",
    "y = b0 + b1 * x\n",
    "\n",
    "# Ploting Line\n",
    "plt.plot(x, y, color=(0.5,0.2,0.5), label='Regression Line')\n",
    "# Ploting Scatter Points\n",
    "plt.scatter(X, Y, color=(0.2,0.5,0.2), label='Scatter Plot')\n",
    "\n",
    "plt.xlabel('Age')\n",
    "plt.ylabel('Price')\n",
    "plt.legend()\n",
    "plt.show()"
   ]
  },
  {
   "cell_type": "markdown",
   "metadata": {},
   "source": [
    "Now that we have the model, we would like to know how good this model actually is. To do so, we will use the Root Mean Squared Error (RMSE) and Coefficient of Determination ($R^{2}$ score). \n",
    "Recall that squaring the residuals, averaging the squares, and taking the square root gives us the RMSE. In other words, RMSE = $\\sqrt{\\frac{1}{n}\\sum_{i=1}^{n} (\\hat{y_{i}} - y_{i})^{2}}$. Here, $\\hat{y_{i}}$ indicates the predicted values.\n",
    "\n",
    "On the other hand, $R^{2}$ is defined as $R^{2} \\equiv 1 - \\frac{SS_{r}}{SS_{t}}$ in which $SS_{t} = \\sum_{i=1}^{n} (y_{i} - \\overline{y})^{2}$, and $SS_{r} = \\sum_{i=1}^{n} (y_{i} - \\hat{y_{i}})^{2}$"
   ]
  },
  {
   "cell_type": "code",
   "execution_count": 5,
   "metadata": {},
   "outputs": [
    {
     "name": "stdout",
     "output_type": "stream",
     "text": [
      "1744.8218989236705\n",
      "0.7684108996825325\n"
     ]
    }
   ],
   "source": [
    "# Calculating Root Mean Squares Error\n",
    "RMSE = 0\n",
    "for i in range(m):\n",
    "    y_pred = b0 + b1 * X[i]\n",
    "    RMSE += (y_pred - Y[i]) ** 2\n",
    "RMSE = np.sqrt(RMSE/m)\n",
    "print(RMSE)\n",
    "\n",
    "ss_t = 0\n",
    "ss_r = 0\n",
    "for i in range(m):\n",
    "    y_pred = b0 + b1 * X[i]\n",
    "    ss_t += (Y[i] - mean_y) ** 2\n",
    "    ss_r += (Y[i] - y_pred) ** 2\n",
    "R2 = 1 - (ss_r/ss_t)\n",
    "print(R2)"
   ]
  },
  {
   "cell_type": "markdown",
   "metadata": {},
   "source": [
    "As a sanity check, we would like to compare the results of our model with the results coming out from a standarized package that is already implmented in Python (included within the sklearn package). If our model is correct then the two methods should ouput the same results. "
   ]
  },
  {
   "cell_type": "code",
   "execution_count": 7,
   "metadata": {},
   "outputs": [
    {
     "name": "stdout",
     "output_type": "stream",
     "text": [
      "1744.8218989236718\n",
      "0.7684108996825327\n"
     ]
    }
   ],
   "source": [
    "from sklearn.linear_model import LinearRegression\n",
    "from sklearn.metrics import mean_squared_error\n",
    "\n",
    "# Cannot use Rank 1 matrix in scikit learn\n",
    "X = X.reshape((m, 1))\n",
    "# Creating Model\n",
    "reg = LinearRegression()\n",
    "# Fitting training data\n",
    "reg = reg.fit(X, Y)\n",
    "# Y Prediction\n",
    "Y_pred = reg.predict(X)\n",
    "\n",
    "# Calculating RMSE and R2 Score\n",
    "mse = mean_squared_error(Y, Y_pred)\n",
    "RMSE = np.sqrt(mse)\n",
    "R2_score = reg.score(X, Y)\n",
    "\n",
    "print(RMSE)\n",
    "print(R2_score)"
   ]
  }
 ],
 "metadata": {
  "kernelspec": {
   "display_name": "Python 3",
   "language": "python",
   "name": "python3"
  },
  "language_info": {
   "codemirror_mode": {
    "name": "ipython",
    "version": 3
   },
   "file_extension": ".py",
   "mimetype": "text/x-python",
   "name": "python",
   "nbconvert_exporter": "python",
   "pygments_lexer": "ipython3",
   "version": "3.6.6"
  }
 },
 "nbformat": 4,
 "nbformat_minor": 2
}
